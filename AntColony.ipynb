{
  "nbformat": 4,
  "nbformat_minor": 0,
  "metadata": {
    "colab": {
      "provenance": [],
      "authorship_tag": "ABX9TyN8H17JAgOAwfaR3HvQRQ9D",
      "include_colab_link": true
    },
    "kernelspec": {
      "name": "python3",
      "display_name": "Python 3"
    },
    "language_info": {
      "name": "python"
    }
  },
  "cells": [
    {
      "cell_type": "markdown",
      "metadata": {
        "id": "view-in-github",
        "colab_type": "text"
      },
      "source": [
        "<a href=\"https://colab.research.google.com/github/Aditya1BM22CS017/5A-BIS-Lab/blob/main/AntColony.ipynb\" target=\"_parent\"><img src=\"https://colab.research.google.com/assets/colab-badge.svg\" alt=\"Open In Colab\"/></a>"
      ]
    },
    {
      "cell_type": "code",
      "source": [
        "import numpy as np\n",
        "import random\n",
        "\n",
        "class Ant:\n",
        "    def __init__(self, num_nodes):\n",
        "        self.path = []\n",
        "        self.distance = 0\n",
        "        self.num_nodes = num_nodes\n",
        "\n",
        "    def visit_node(self, node, distance_matrix):\n",
        "        if len(self.path) > 0:\n",
        "            self.distance += distance_matrix[self.path[-1]][node]\n",
        "        self.path.append(node)\n",
        "\n",
        "    def tour_complete(self, distance_matrix):\n",
        "        return_to_start = distance_matrix[self.path[-1]][self.path[0]]\n",
        "        self.distance += return_to_start\n",
        "        self.path.append(self.path[0])  # return to start node\n",
        "\n",
        "class AntColonyOptimizer:\n",
        "    def __init__(self, num_nodes, distance_matrix, num_ants, alpha=1, beta=2, evaporation=0.5, q=10):\n",
        "        self.num_nodes = num_nodes\n",
        "        self.distance_matrix = distance_matrix\n",
        "        self.num_ants = num_ants\n",
        "        self.alpha = alpha\n",
        "        self.beta = beta\n",
        "        self.evaporation = evaporation\n",
        "        self.q = q\n",
        "        self.pheromone = np.ones((num_nodes, num_nodes))\n",
        "\n",
        "    def _probability(self, i, j, visited):\n",
        "        pheromone = self.pheromone[i][j] ** self.alpha\n",
        "        heuristic = (1 / self.distance_matrix[i][j]) ** self.beta\n",
        "        return pheromone * heuristic if j not in visited else 0\n",
        "\n",
        "    def _select_next_node(self, ant):\n",
        "        unvisited = [node for node in range(self.num_nodes) if node not in ant.path]\n",
        "        probabilities = [self._probability(ant.path[-1], node, ant.path) for node in unvisited]\n",
        "        total = sum(probabilities)\n",
        "        if total == 0: return random.choice(unvisited)\n",
        "        probabilities = [p / total for p in probabilities]\n",
        "        return np.random.choice(unvisited, p=probabilities)\n",
        "\n",
        "    def _update_pheromones(self, ants):\n",
        "        self.pheromone *= (1 - self.evaporation)\n",
        "        for ant in ants:\n",
        "            contribution = self.q / ant.distance\n",
        "            for i in range(len(ant.path) - 1):\n",
        "                u, v = ant.path[i], ant.path[i + 1]\n",
        "                self.pheromone[u][v] += contribution\n",
        "                self.pheromone[v][u] += contribution\n",
        "\n",
        "    def run(self, iterations=100):\n",
        "        best_distance = float('inf')\n",
        "        best_path = []\n",
        "\n",
        "        for _ in range(iterations):\n",
        "            ants = [Ant(self.num_nodes) for _ in range(self.num_ants)]\n",
        "\n",
        "            for ant in ants:\n",
        "                ant.visit_node(random.randint(0, self.num_nodes - 1), self.distance_matrix)\n",
        "                while len(ant.path) < self.num_nodes:\n",
        "                    next_node = self._select_next_node(ant)\n",
        "                    ant.visit_node(next_node, self.distance_matrix)\n",
        "                ant.tour_complete(self.distance_matrix)\n",
        "\n",
        "                if ant.distance < best_distance:\n",
        "                    best_distance = ant.distance\n",
        "                    best_path = ant.path\n",
        "\n",
        "            self._update_pheromones(ants)\n",
        "\n",
        "        return best_path, best_distance\n",
        "\n",
        "# Example Usage\n",
        "if __name__ == \"__main__\":\n",
        "    num_nodes = 5\n",
        "    distance_matrix = np.array([\n",
        "        [0, 2, 2, 3, 4],\n",
        "        [2, 0, 4, 5, 3],\n",
        "        [2, 4, 0, 2, 3],\n",
        "        [3, 5, 2, 0, 5],\n",
        "        [4, 3, 3, 5, 0]\n",
        "    ])\n",
        "\n",
        "    optimizer = AntColonyOptimizer(num_nodes, distance_matrix, num_ants=10)\n",
        "    best_path, best_distance = optimizer.run(iterations=100)\n",
        "    print(f\"Best Path: {best_path}\")\n",
        "    print(f\"Best Distance: {best_distance}\")\n"
      ],
      "metadata": {
        "colab": {
          "base_uri": "https://localhost:8080/"
        },
        "id": "dBB2YOjXl3kI",
        "outputId": "921a6ece-f1b2-486c-ed81-bf33d87d4797"
      },
      "execution_count": null,
      "outputs": [
        {
          "output_type": "stream",
          "name": "stdout",
          "text": [
            "Best Path: [4, 1, 0, 3, 2, 4]\n",
            "Best Distance: 13\n"
          ]
        }
      ]
    },
    {
      "cell_type": "code",
      "source": [],
      "metadata": {
        "colab": {
          "base_uri": "https://localhost:8080/"
        },
        "id": "GVhz1lOxvxsS",
        "outputId": "f605f83c-e8c1-44d9-8879-52336a6e34ed"
      },
      "execution_count": null,
      "outputs": [
        {
          "output_type": "stream",
          "name": "stdout",
          "text": [
            "Iteration 1: Best Fitness = 0.5417730573460232\n",
            "Iteration 2: Best Fitness = 0.26168186533798576\n",
            "Iteration 3: Best Fitness = 0.10147967057340737\n",
            "Iteration 4: Best Fitness = 0.04171173113119345\n",
            "Iteration 5: Best Fitness = 0.012229154490188184\n",
            "Iteration 6: Best Fitness = 0.0070370924184651054\n",
            "Iteration 7: Best Fitness = 0.001027069881955723\n",
            "Iteration 8: Best Fitness = 0.0002670394946806267\n",
            "Iteration 9: Best Fitness = 0.0002670394946806267\n",
            "Iteration 10: Best Fitness = 9.602908134018304e-05\n",
            "Iteration 11: Best Fitness = 9.602908134018304e-05\n",
            "Iteration 12: Best Fitness = 5.651768113292391e-05\n",
            "Iteration 13: Best Fitness = 1.2619955888712499e-05\n",
            "Iteration 14: Best Fitness = 1.2619955888712499e-05\n",
            "Iteration 15: Best Fitness = 7.656297293570681e-06\n",
            "Iteration 16: Best Fitness = 2.69885245718062e-06\n",
            "Iteration 17: Best Fitness = 2.69885245718062e-06\n",
            "Iteration 18: Best Fitness = 1.8248527646008478e-06\n",
            "Iteration 19: Best Fitness = 2.6374314262204164e-07\n",
            "Iteration 20: Best Fitness = 2.6374314262204164e-07\n",
            "Iteration 21: Best Fitness = 2.6374314262204164e-07\n",
            "Iteration 22: Best Fitness = 2.1323599083673433e-07\n",
            "Iteration 23: Best Fitness = 2.1316865605021274e-07\n",
            "Iteration 24: Best Fitness = 2.1224049226711876e-07\n",
            "Iteration 25: Best Fitness = 1.8247192214566812e-07\n",
            "Iteration 26: Best Fitness = 1.476148393038856e-07\n",
            "Iteration 27: Best Fitness = 1.476148393038856e-07\n",
            "Iteration 28: Best Fitness = 1.4708229696206233e-07\n",
            "Iteration 29: Best Fitness = 1.4701165536519514e-07\n",
            "Iteration 30: Best Fitness = 1.4701165536519514e-07\n",
            "Iteration 31: Best Fitness = 1.4701165536519514e-07\n",
            "Iteration 32: Best Fitness = 1.4700723958186217e-07\n",
            "Iteration 33: Best Fitness = 1.4700723958186217e-07\n",
            "Iteration 34: Best Fitness = 1.4700677504738945e-07\n",
            "Iteration 35: Best Fitness = 1.4700677504738945e-07\n",
            "Iteration 36: Best Fitness = 1.4700677504738945e-07\n",
            "Iteration 37: Best Fitness = 1.4700677504738945e-07\n",
            "Iteration 38: Best Fitness = 1.4700677504738945e-07\n",
            "Iteration 39: Best Fitness = 1.4700677504738945e-07\n",
            "Iteration 40: Best Fitness = 1.4700677504738945e-07\n",
            "Iteration 41: Best Fitness = 1.4700677504738945e-07\n",
            "Iteration 42: Best Fitness = 1.4700677504738945e-07\n",
            "Iteration 43: Best Fitness = 1.4700677504738945e-07\n",
            "Iteration 44: Best Fitness = 1.4700677504738945e-07\n",
            "Iteration 45: Best Fitness = 1.4700677504738945e-07\n",
            "Iteration 46: Best Fitness = 1.4700677504738945e-07\n",
            "Iteration 47: Best Fitness = 1.4700677504738945e-07\n",
            "Iteration 48: Best Fitness = 1.4700677504738945e-07\n",
            "Iteration 49: Best Fitness = 1.4700677504738945e-07\n",
            "Iteration 50: Best Fitness = 1.4700677504738945e-07\n",
            "\n",
            "Best solution: [ 0.00036358 -0.00012172]\n",
            "Best fitness: 1.4700677504738945e-07\n"
          ]
        }
      ]
    },
    {
      "cell_type": "code",
      "source": [],
      "metadata": {
        "id": "EQEWPLxkyXkx",
        "colab": {
          "base_uri": "https://localhost:8080/"
        },
        "outputId": "87821e40-2216-4306-ad57-b8ae3e6e9be8"
      },
      "execution_count": null,
      "outputs": [
        {
          "output_type": "stream",
          "name": "stdout",
          "text": [
            "Best solution: [-1.13040445e+197 -1.16606789e+053]\n",
            "Best fitness: -2.2608088954230963e+197\n"
          ]
        },
        {
          "output_type": "stream",
          "name": "stderr",
          "text": [
            "<ipython-input-4-5328664122a0>:9: DeprecationWarning: `np.math` is a deprecated alias for the standard library `math` module (Deprecated Numpy 1.25). Replace usages of `np.math` with `math`\n",
            "  sigma = (np.math.gamma(1 + Lambda) * np.sin(np.pi * Lambda / 2) /\n",
            "<ipython-input-4-5328664122a0>:10: DeprecationWarning: `np.math` is a deprecated alias for the standard library `math` module (Deprecated Numpy 1.25). Replace usages of `np.math` with `math`\n",
            "  (np.math.gamma((1 + Lambda) / 2) * Lambda * 2*((Lambda - 1) / 2)))*(1 / Lambda)\n"
          ]
        }
      ]
    },
    {
      "cell_type": "code",
      "source": [],
      "metadata": {
        "id": "IIus8eXia5Qj"
      },
      "execution_count": null,
      "outputs": []
    }
  ]
}