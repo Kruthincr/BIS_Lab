{
  "nbformat": 4,
  "nbformat_minor": 0,
  "metadata": {
    "colab": {
      "provenance": [],
      "authorship_tag": "ABX9TyM968SkZnSaNtfOXj2W5Qcg",
      "include_colab_link": true
    },
    "kernelspec": {
      "name": "python3",
      "display_name": "Python 3"
    },
    "language_info": {
      "name": "python"
    }
  },
  "cells": [
    {
      "cell_type": "markdown",
      "metadata": {
        "id": "view-in-github",
        "colab_type": "text"
      },
      "source": [
        "<a href=\"https://colab.research.google.com/github/Aditya1BM22CS017/5A-BIS-Lab/blob/main/CuckooSearch.ipynb\" target=\"_parent\"><img src=\"https://colab.research.google.com/assets/colab-badge.svg\" alt=\"Open In Colab\"/></a>"
      ]
    },
    {
      "cell_type": "code",
      "execution_count": null,
      "metadata": {
        "id": "Xf9jEi3JmCh4",
        "outputId": "aaa00063-db41-43ff-f2e3-d406c29ea13b",
        "colab": {
          "base_uri": "https://localhost:8080/"
        }
      },
      "outputs": [
        {
          "output_type": "stream",
          "name": "stdout",
          "text": [
            "Best solution: [ 1.66756996e+044 -1.58409114e+185]\n",
            "Best fitness: -3.168182289224787e+185\n"
          ]
        },
        {
          "output_type": "stream",
          "name": "stderr",
          "text": [
            "<ipython-input-1-5328664122a0>:9: DeprecationWarning: `np.math` is a deprecated alias for the standard library `math` module (Deprecated Numpy 1.25). Replace usages of `np.math` with `math`\n",
            "  sigma = (np.math.gamma(1 + Lambda) * np.sin(np.pi * Lambda / 2) /\n",
            "<ipython-input-1-5328664122a0>:10: DeprecationWarning: `np.math` is a deprecated alias for the standard library `math` module (Deprecated Numpy 1.25). Replace usages of `np.math` with `math`\n",
            "  (np.math.gamma((1 + Lambda) / 2) * Lambda * 2*((Lambda - 1) / 2)))*(1 / Lambda)\n"
          ]
        }
      ],
      "source": [
        "import numpy as np\n",
        "\n",
        "# Objective function to minimize\n",
        "def objective_function(x):\n",
        "    return x[0]*2 + x[1]*2  # Example: simple quadratic function\n",
        "\n",
        "# Lévy flight step generator\n",
        "def levy_flight(Lambda):\n",
        "    sigma = (np.math.gamma(1 + Lambda) * np.sin(np.pi * Lambda / 2) /\n",
        "             (np.math.gamma((1 + Lambda) / 2) * Lambda * 2*((Lambda - 1) / 2)))*(1 / Lambda)\n",
        "    u = np.random.normal(0, sigma, 2)\n",
        "    v = np.random.normal(0, 1, 2)\n",
        "    step = u / np.abs(v)**(1 / Lambda)\n",
        "    return step\n",
        "\n",
        "# CS parameters\n",
        "num_nests = 25\n",
        "discovery_rate = 0.25\n",
        "iterations = 100\n",
        "Lambda = 1.5  # Parameter for Lévy flights\n",
        "\n",
        "# Initialize nests\n",
        "nests = np.random.uniform(-10, 10, (num_nests, 2))\n",
        "best_nest = nests[0]\n",
        "best_fitness = objective_function(best_nest)\n",
        "\n",
        "# Main loop\n",
        "for _ in range(iterations):\n",
        "    # Generate new solutions using Lévy flight\n",
        "    for i in range(num_nests):\n",
        "        step_size = levy_flight(Lambda)\n",
        "        new_solution = nests[i] + step_size * (nests[i] - best_nest)\n",
        "        new_fitness = objective_function(new_solution)\n",
        "\n",
        "        # If new solution is better, replace the current solution\n",
        "        if new_fitness < objective_function(nests[i]):\n",
        "            nests[i] = new_solution\n",
        "\n",
        "        # Update best solution\n",
        "        if new_fitness < best_fitness:\n",
        "            best_fitness = new_fitness\n",
        "            best_nest = new_solution\n",
        "\n",
        "    # Abandon a fraction of worst nests\n",
        "    num_abandoned = int(discovery_rate * num_nests)\n",
        "    worst_indices = np.argsort([objective_function(nest) for nest in nests])[-num_abandoned:]\n",
        "    nests[worst_indices] = np.random.uniform(-10, 10, (num_abandoned, 2))\n",
        "\n",
        "print(\"Best solution:\", best_nest)\n",
        "print(\"Best fitness:\", best_fitness)"
      ]
    },
    {
      "cell_type": "code",
      "source": [],
      "metadata": {
        "id": "OT-Ix6LImDVV"
      },
      "execution_count": null,
      "outputs": []
    }
  ]
}